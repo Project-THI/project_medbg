{
 "cells": [
  {
   "cell_type": "code",
   "execution_count": 4,
   "id": "initial_id",
   "metadata": {
    "collapsed": true,
    "ExecuteTime": {
     "end_time": "2024-04-18T15:02:46.525604600Z",
     "start_time": "2024-04-18T15:02:46.491597300Z"
    }
   },
   "outputs": [],
   "source": [
    "from sim_diffusion import *"
   ]
  },
  {
   "cell_type": "markdown",
   "source": [
    "## Accessing the r-/ q-space data inside the .mat file"
   ],
   "metadata": {
    "collapsed": false
   },
   "id": "18cadf0a567b53a1"
  },
  {
   "cell_type": "code",
   "outputs": [
    {
     "name": "stderr",
     "output_type": "stream",
     "text": [
      "Loading q- and r-space data: 100%|██████████| 10000/10000 [00:00<00:00, 999738.76it/s]\n"
     ]
    }
   ],
   "source": [
    "file_dir = 'simulation_results.mat'\n",
    "dataset = prep_mat_sim(file_dir)"
   ],
   "metadata": {
    "collapsed": false,
    "ExecuteTime": {
     "end_time": "2024-04-18T15:03:49.988934700Z",
     "start_time": "2024-04-18T15:02:50.817566100Z"
    }
   },
   "id": "688498b084b72744",
   "execution_count": 5
  },
  {
   "cell_type": "code",
   "outputs": [
    {
     "name": "stdout",
     "output_type": "stream",
     "text": [
      "R-space shape: (33, 33, 33)\n",
      "Q-space shape: (33, 33, 33)\n",
      "Further information: {'fiber_fractions': array([0.84145234, 0.15854766]), 'num_fibers': array(2.)}\n"
     ]
    }
   ],
   "source": [
    "first_point = dataset[0]\n",
    "print(f'R-space shape: {first_point[1].shape}')\n",
    "print(f'Q-space shape: {first_point[0].shape}')\n",
    "\n",
    "print(f'Further information: {first_point[2]}')"
   ],
   "metadata": {
    "collapsed": false,
    "ExecuteTime": {
     "end_time": "2024-04-18T15:09:31.901482800Z",
     "start_time": "2024-04-18T15:09:31.895481900Z"
    }
   },
   "id": "23c6116bb8bf23d9",
   "execution_count": 27
  }
 ],
 "metadata": {
  "kernelspec": {
   "display_name": "Python 3",
   "language": "python",
   "name": "python3"
  },
  "language_info": {
   "codemirror_mode": {
    "name": "ipython",
    "version": 2
   },
   "file_extension": ".py",
   "mimetype": "text/x-python",
   "name": "python",
   "nbconvert_exporter": "python",
   "pygments_lexer": "ipython2",
   "version": "2.7.6"
  }
 },
 "nbformat": 4,
 "nbformat_minor": 5
}
