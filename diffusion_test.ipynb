{
 "cells": [
  {
   "cell_type": "code",
   "execution_count": 1,
   "id": "initial_id",
   "metadata": {
    "collapsed": true,
    "ExecuteTime": {
     "end_time": "2024-04-11T12:50:15.673801Z",
     "start_time": "2024-04-11T12:50:15.407947Z"
    }
   },
   "outputs": [
    {
     "name": "stdout",
     "output_type": "stream",
     "text": [
      "(33, 33, 33)\n"
     ]
    }
   ],
   "source": [
    "from sim_diffusion import *"
   ]
  },
  {
   "cell_type": "markdown",
   "source": [
    "## Provide the Parameters"
   ],
   "metadata": {
    "collapsed": false
   },
   "id": "fe2dc6dc9e6d3874"
  },
  {
   "cell_type": "code",
   "outputs": [],
   "source": [
    "# Parameters\n",
    "n_samples = 5  # Number of different samples to generate\n",
    "simsize = 33\n",
    "bmax = 10000  # s/mm^2\n",
    "bigDelta = 66e-3  # sec\n",
    "smallDelta = 60e-3  # sec\n",
    "gmax = 40e-3  # T/m\n",
    "gamma = 2 * np.pi * 42.57e6  # Hz/T for proton\n",
    "Dxx_base = 2e-9  # m^2/s\n",
    "\n",
    "save_dir = 'data'"
   ],
   "metadata": {
    "collapsed": false,
    "ExecuteTime": {
     "end_time": "2024-04-11T12:50:15.714021Z",
     "start_time": "2024-04-11T12:50:15.658033Z"
    }
   },
   "id": "1209ad90028c046e",
   "execution_count": 2
  },
  {
   "cell_type": "markdown",
   "source": [
    "## Generate the samples"
   ],
   "metadata": {
    "collapsed": false
   },
   "id": "6c3663a086dc3f1b"
  },
  {
   "cell_type": "code",
   "outputs": [
    {
     "name": "stderr",
     "output_type": "stream",
     "text": [
      "100%|██████████| 5/5 [00:00<00:00, 301.02it/s]\n"
     ]
    }
   ],
   "source": [
    "# Generate the samples\n",
    "samples = generate_samples(save_dir, n_samples, simsize, bmax, bigDelta, smallDelta, gmax, gamma, Dxx_base)"
   ],
   "metadata": {
    "collapsed": false,
    "ExecuteTime": {
     "end_time": "2024-04-11T12:50:16.431540Z",
     "start_time": "2024-04-11T12:50:16.399468Z"
    }
   },
   "id": "73c70290d6720f2e",
   "execution_count": 3
  },
  {
   "cell_type": "markdown",
   "source": [
    "## Load the samples from the directory"
   ],
   "metadata": {
    "collapsed": false
   },
   "id": "da080f5b127f7e"
  },
  {
   "cell_type": "code",
   "outputs": [
    {
     "name": "stdout",
     "output_type": "stream",
     "text": [
      "5\n"
     ]
    }
   ],
   "source": [
    "x = data_loader('data')\n",
    "print(len(x))"
   ],
   "metadata": {
    "collapsed": false,
    "ExecuteTime": {
     "end_time": "2024-04-11T12:50:26.519161Z",
     "start_time": "2024-04-11T12:50:26.503781Z"
    }
   },
   "id": "9830537745e7b04d",
   "execution_count": 4
  }
 ],
 "metadata": {
  "kernelspec": {
   "display_name": "Python 3",
   "language": "python",
   "name": "python3"
  },
  "language_info": {
   "codemirror_mode": {
    "name": "ipython",
    "version": 2
   },
   "file_extension": ".py",
   "mimetype": "text/x-python",
   "name": "python",
   "nbconvert_exporter": "python",
   "pygments_lexer": "ipython2",
   "version": "2.7.6"
  }
 },
 "nbformat": 4,
 "nbformat_minor": 5
}
